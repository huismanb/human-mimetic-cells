{
 "cells": [
  {
   "cell_type": "code",
   "execution_count": 1,
   "metadata": {},
   "outputs": [],
   "source": [
    "import scanpy as sc\n",
    "import numpy as np\n",
    "\n",
    "import anndata2ri"
   ]
  },
  {
   "cell_type": "code",
   "execution_count": 2,
   "metadata": {},
   "outputs": [
    {
     "name": "stderr",
     "output_type": "stream",
     "text": [
      "/tmp/ipykernel_1882/1522958795.py:2: DeprecationWarning: The global conversion available with activate() is deprecated and will be removed in the next major release. Use a local converter.\n",
      "  anndata2ri.activate()\n"
     ]
    },
    {
     "name": "stdout",
     "output_type": "stream",
     "text": [
      "-----\n",
      "anndata     0.9.2\n",
      "scanpy      1.9.5\n",
      "-----\n",
      "PIL                         10.2.0\n",
      "anndata2ri                  1.3.1\n",
      "anyio                       NA\n",
      "arrow                       1.3.0\n",
      "asttokens                   NA\n",
      "attr                        23.2.0\n",
      "attrs                       23.2.0\n",
      "babel                       2.14.0\n",
      "certifi                     2024.02.02\n",
      "cffi                        1.16.0\n",
      "charset_normalizer          3.3.2\n",
      "comm                        0.2.1\n",
      "cycler                      0.12.1\n",
      "cython_runtime              NA\n",
      "dateutil                    2.8.2\n",
      "debugpy                     1.8.1\n",
      "decorator                   5.1.1\n",
      "defusedxml                  0.7.1\n",
      "exceptiongroup              1.2.0\n",
      "executing                   2.0.1\n",
      "fastjsonschema              NA\n",
      "fqdn                        NA\n",
      "h5py                        3.10.0\n",
      "idna                        3.6\n",
      "importlib_resources         NA\n",
      "ipykernel                   6.29.2\n",
      "isoduration                 NA\n",
      "jedi                        0.19.1\n",
      "jinja2                      3.1.3\n",
      "joblib                      1.3.2\n",
      "json5                       NA\n",
      "jsonpointer                 2.4\n",
      "jsonschema                  4.21.1\n",
      "jsonschema_specifications   NA\n",
      "jupyter_events              0.9.0\n",
      "jupyter_server              2.12.5\n",
      "jupyterlab_server           2.25.3\n",
      "kiwisolver                  1.4.5\n",
      "llvmlite                    0.42.0\n",
      "markupsafe                  2.1.5\n",
      "matplotlib                  3.8.3\n",
      "mpl_toolkits                NA\n",
      "natsort                     8.4.0\n",
      "nbformat                    5.9.2\n",
      "numba                       0.59.0\n",
      "numpy                       1.26.4\n",
      "overrides                   NA\n",
      "packaging                   23.2\n",
      "pandas                      1.3.5\n",
      "parso                       0.8.3\n",
      "pexpect                     4.9.0\n",
      "platformdirs                4.2.0\n",
      "prometheus_client           NA\n",
      "prompt_toolkit              3.0.43\n",
      "psutil                      5.9.8\n",
      "ptyprocess                  0.7.0\n",
      "pure_eval                   0.2.2\n",
      "pydev_ipython               NA\n",
      "pydevconsole                NA\n",
      "pydevd                      2.9.5\n",
      "pydevd_file_utils           NA\n",
      "pydevd_plugins              NA\n",
      "pydevd_tracing              NA\n",
      "pygments                    2.17.2\n",
      "pyparsing                   3.1.1\n",
      "pythonjsonlogger            NA\n",
      "pytz                        2024.1\n",
      "referencing                 NA\n",
      "requests                    2.31.0\n",
      "rfc3339_validator           0.1.4\n",
      "rfc3986_validator           0.1.1\n",
      "rpds                        NA\n",
      "rpy2                        3.5.15\n",
      "scipy                       1.12.0\n",
      "send2trash                  NA\n",
      "session_info                1.0.0\n",
      "six                         1.16.0\n",
      "sklearn                     1.4.1.post1\n",
      "sniffio                     1.3.0\n",
      "stack_data                  0.6.3\n",
      "threadpoolctl               3.3.0\n",
      "tornado                     6.4\n",
      "traitlets                   5.14.1\n",
      "typing_extensions           NA\n",
      "tzlocal                     NA\n",
      "uri_template                NA\n",
      "urllib3                     1.26.6\n",
      "wcwidth                     0.2.13\n",
      "webcolors                   1.13\n",
      "websocket                   1.7.0\n",
      "yaml                        6.0.1\n",
      "zipp                        NA\n",
      "zmq                         25.1.2\n",
      "zoneinfo                    NA\n",
      "-----\n",
      "IPython             8.18.1\n",
      "jupyter_client      8.6.0\n",
      "jupyter_core        5.7.1\n",
      "jupyterlab          4.1.2\n",
      "notebook            7.1.0\n",
      "-----\n",
      "Python 3.9.14 (main, Sep 16 2022, 09:43:18) [GCC 9.2.0]\n",
      "Linux-3.10.0-1160.105.1.el7.x86_64-x86_64-with-glibc2.17\n",
      "-----\n",
      "Session information updated at 2024-03-09 19:12\n"
     ]
    }
   ],
   "source": [
    "# Activate the anndata2ri conversion between SingleCellExperiment and AnnData\n",
    "anndata2ri.activate()\n",
    "\n",
    "#Loading the rpy2 extension enables cell magic to be used\n",
    "#This runs R code in jupyter notebook cells\n",
    "%load_ext rpy2.ipython\n",
    "\n",
    "sc.settings.verbosity = 3\n",
    "sc.logging.print_versions()"
   ]
  },
  {
   "cell_type": "code",
   "execution_count": 3,
   "metadata": {},
   "outputs": [
    {
     "name": "stdout",
     "output_type": "stream",
     "text": [
      "\n",
      "    WARNING: The R package \"reticulate\" only fixed recently\n",
      "    an issue that caused a segfault when used with rpy2:\n",
      "    https://github.com/rstudio/reticulate/pull/1188\n",
      "    Make sure that you use a version of that package that includes\n",
      "    the fix.\n",
      "    An object of class Seurat \n",
      "31238 features across 25784 samples within 1 assay \n",
      "Active assay: RNA (31238 features, 2000 variable features)\n",
      " 3 layers present: counts, data, scale.data\n",
      " 2 dimensional reductions calculated: pca, umap\n"
     ]
    }
   ],
   "source": [
    "%%R\n",
    "suppressPackageStartupMessages(library(Seurat))\n",
    "\n",
    "sc_seurat_1 <- readRDS(\"../human_data/meclo_ht2-ht6_seurat_table_20240309_labelled-mimeticsonly_preprocessed.rds\")\n",
    "\n",
    "sc_seurat_1"
   ]
  },
  {
   "cell_type": "markdown",
   "metadata": {},
   "source": [
    "%%R\n",
    "BiocManager::install(\"SingleCellExperiment\")"
   ]
  },
  {
   "cell_type": "code",
   "execution_count": 4,
   "metadata": {},
   "outputs": [],
   "source": [
    "%%R -o sc_ann_1\n",
    "#convert the Seurat object to a SingleCellExperiment object\n",
    "sc_ann_1 <- as.SingleCellExperiment(sc_seurat_1)"
   ]
  },
  {
   "cell_type": "code",
   "execution_count": 5,
   "metadata": {},
   "outputs": [
    {
     "data": {
      "text/plain": [
       "AnnData object with n_obs × n_vars = 25784 × 31238\n",
       "    obs: 'orig.ident', 'nCount_RNA', 'nFeature_RNA', 'percent.mt', 'RNA_snn_res.2', 'seurat_clusters', 'Doublet.Finder', 'clust9', 'orig.identABC', 'celltype', 'ident'\n",
       "    obsm: 'X_pca', 'X_umap'\n",
       "    layers: 'logcounts'"
      ]
     },
     "execution_count": 5,
     "metadata": {},
     "output_type": "execute_result"
    }
   ],
   "source": [
    "sc_ann_1"
   ]
  },
  {
   "cell_type": "code",
   "execution_count": 6,
   "metadata": {},
   "outputs": [
    {
     "data": {
      "text/html": [
       "<div>\n",
       "<style scoped>\n",
       "    .dataframe tbody tr th:only-of-type {\n",
       "        vertical-align: middle;\n",
       "    }\n",
       "\n",
       "    .dataframe tbody tr th {\n",
       "        vertical-align: top;\n",
       "    }\n",
       "\n",
       "    .dataframe thead th {\n",
       "        text-align: right;\n",
       "    }\n",
       "</style>\n",
       "<table border=\"1\" class=\"dataframe\">\n",
       "  <thead>\n",
       "    <tr style=\"text-align: right;\">\n",
       "      <th></th>\n",
       "      <th>orig.ident</th>\n",
       "      <th>nCount_RNA</th>\n",
       "      <th>nFeature_RNA</th>\n",
       "      <th>percent.mt</th>\n",
       "      <th>RNA_snn_res.2</th>\n",
       "      <th>seurat_clusters</th>\n",
       "      <th>Doublet.Finder</th>\n",
       "      <th>clust9</th>\n",
       "      <th>orig.identABC</th>\n",
       "      <th>celltype</th>\n",
       "      <th>ident</th>\n",
       "    </tr>\n",
       "  </thead>\n",
       "  <tbody>\n",
       "    <tr>\n",
       "      <th>AAACCCACAACATCGT-1_1</th>\n",
       "      <td>HT2</td>\n",
       "      <td>17795.0</td>\n",
       "      <td>5132</td>\n",
       "      <td>1.359933</td>\n",
       "      <td>7</td>\n",
       "      <td>7</td>\n",
       "      <td>Singlet</td>\n",
       "      <td>Late muscle</td>\n",
       "      <td>D</td>\n",
       "      <td>Late muscle</td>\n",
       "      <td>Late muscle</td>\n",
       "    </tr>\n",
       "    <tr>\n",
       "      <th>AAACCCAGTAAGTAGT-1_1</th>\n",
       "      <td>HT2</td>\n",
       "      <td>14324.0</td>\n",
       "      <td>4539</td>\n",
       "      <td>1.926836</td>\n",
       "      <td>19</td>\n",
       "      <td>19</td>\n",
       "      <td>Singlet</td>\n",
       "      <td>Late muscle</td>\n",
       "      <td>D</td>\n",
       "      <td>Late muscle</td>\n",
       "      <td>Late muscle</td>\n",
       "    </tr>\n",
       "    <tr>\n",
       "      <th>AAACCCAGTACCGCGT-1_1</th>\n",
       "      <td>HT2</td>\n",
       "      <td>6374.0</td>\n",
       "      <td>2759</td>\n",
       "      <td>1.584562</td>\n",
       "      <td>3</td>\n",
       "      <td>3</td>\n",
       "      <td>Singlet</td>\n",
       "      <td>Early muscle</td>\n",
       "      <td>D</td>\n",
       "      <td>Early muscle</td>\n",
       "      <td>Early muscle</td>\n",
       "    </tr>\n",
       "    <tr>\n",
       "      <th>AAACCCAGTTAGGGAC-1_1</th>\n",
       "      <td>HT2</td>\n",
       "      <td>5016.0</td>\n",
       "      <td>2692</td>\n",
       "      <td>2.850877</td>\n",
       "      <td>6</td>\n",
       "      <td>6</td>\n",
       "      <td>Singlet</td>\n",
       "      <td>Ionocyte</td>\n",
       "      <td>D</td>\n",
       "      <td>ASCL3+ ionocyte</td>\n",
       "      <td>ASCL3+ ionocyte</td>\n",
       "    </tr>\n",
       "    <tr>\n",
       "      <th>AAACCCATCTCGTCAC-1_1</th>\n",
       "      <td>HT2</td>\n",
       "      <td>9237.0</td>\n",
       "      <td>3515</td>\n",
       "      <td>2.013641</td>\n",
       "      <td>2</td>\n",
       "      <td>2</td>\n",
       "      <td>Singlet</td>\n",
       "      <td>Early muscle</td>\n",
       "      <td>D</td>\n",
       "      <td>Early muscle</td>\n",
       "      <td>Early muscle</td>\n",
       "    </tr>\n",
       "    <tr>\n",
       "      <th>...</th>\n",
       "      <td>...</td>\n",
       "      <td>...</td>\n",
       "      <td>...</td>\n",
       "      <td>...</td>\n",
       "      <td>...</td>\n",
       "      <td>...</td>\n",
       "      <td>...</td>\n",
       "      <td>...</td>\n",
       "      <td>...</td>\n",
       "      <td>...</td>\n",
       "      <td>...</td>\n",
       "    </tr>\n",
       "    <tr>\n",
       "      <th>TTTGGTTTCTTTCAGT-1_5</th>\n",
       "      <td>HT6</td>\n",
       "      <td>20488.0</td>\n",
       "      <td>5566</td>\n",
       "      <td>3.689965</td>\n",
       "      <td>2</td>\n",
       "      <td>2</td>\n",
       "      <td>Singlet</td>\n",
       "      <td>Early muscle</td>\n",
       "      <td>E</td>\n",
       "      <td>Early muscle</td>\n",
       "      <td>Early muscle</td>\n",
       "    </tr>\n",
       "    <tr>\n",
       "      <th>TTTGTTGCAATCGAAA-1_5</th>\n",
       "      <td>HT6</td>\n",
       "      <td>31107.0</td>\n",
       "      <td>6627</td>\n",
       "      <td>4.950654</td>\n",
       "      <td>0</td>\n",
       "      <td>0</td>\n",
       "      <td>Singlet</td>\n",
       "      <td>Early muscle</td>\n",
       "      <td>E</td>\n",
       "      <td>Early muscle</td>\n",
       "      <td>Early muscle</td>\n",
       "    </tr>\n",
       "    <tr>\n",
       "      <th>TTTGTTGTCATTGCCC-1_5</th>\n",
       "      <td>HT6</td>\n",
       "      <td>12388.0</td>\n",
       "      <td>4521</td>\n",
       "      <td>5.045205</td>\n",
       "      <td>10</td>\n",
       "      <td>10</td>\n",
       "      <td>Singlet</td>\n",
       "      <td>Intermediate</td>\n",
       "      <td>E</td>\n",
       "      <td>Transitional</td>\n",
       "      <td>Transitional</td>\n",
       "    </tr>\n",
       "    <tr>\n",
       "      <th>TTTGTTGTCCGTGTGG-1_5</th>\n",
       "      <td>HT6</td>\n",
       "      <td>21572.0</td>\n",
       "      <td>6011</td>\n",
       "      <td>6.550158</td>\n",
       "      <td>3</td>\n",
       "      <td>3</td>\n",
       "      <td>Singlet</td>\n",
       "      <td>Early muscle</td>\n",
       "      <td>E</td>\n",
       "      <td>Early muscle</td>\n",
       "      <td>Early muscle</td>\n",
       "    </tr>\n",
       "    <tr>\n",
       "      <th>TTTGTTGTCGAGAACG-1_5</th>\n",
       "      <td>HT6</td>\n",
       "      <td>29972.0</td>\n",
       "      <td>6362</td>\n",
       "      <td>3.066195</td>\n",
       "      <td>0</td>\n",
       "      <td>0</td>\n",
       "      <td>Singlet</td>\n",
       "      <td>Early muscle</td>\n",
       "      <td>E</td>\n",
       "      <td>Early muscle</td>\n",
       "      <td>Early muscle</td>\n",
       "    </tr>\n",
       "  </tbody>\n",
       "</table>\n",
       "<p>25784 rows × 11 columns</p>\n",
       "</div>"
      ],
      "text/plain": [
       "                     orig.ident  nCount_RNA  nFeature_RNA  percent.mt  \\\n",
       "AAACCCACAACATCGT-1_1        HT2     17795.0          5132    1.359933   \n",
       "AAACCCAGTAAGTAGT-1_1        HT2     14324.0          4539    1.926836   \n",
       "AAACCCAGTACCGCGT-1_1        HT2      6374.0          2759    1.584562   \n",
       "AAACCCAGTTAGGGAC-1_1        HT2      5016.0          2692    2.850877   \n",
       "AAACCCATCTCGTCAC-1_1        HT2      9237.0          3515    2.013641   \n",
       "...                         ...         ...           ...         ...   \n",
       "TTTGGTTTCTTTCAGT-1_5        HT6     20488.0          5566    3.689965   \n",
       "TTTGTTGCAATCGAAA-1_5        HT6     31107.0          6627    4.950654   \n",
       "TTTGTTGTCATTGCCC-1_5        HT6     12388.0          4521    5.045205   \n",
       "TTTGTTGTCCGTGTGG-1_5        HT6     21572.0          6011    6.550158   \n",
       "TTTGTTGTCGAGAACG-1_5        HT6     29972.0          6362    3.066195   \n",
       "\n",
       "                     RNA_snn_res.2 seurat_clusters Doublet.Finder  \\\n",
       "AAACCCACAACATCGT-1_1             7               7        Singlet   \n",
       "AAACCCAGTAAGTAGT-1_1            19              19        Singlet   \n",
       "AAACCCAGTACCGCGT-1_1             3               3        Singlet   \n",
       "AAACCCAGTTAGGGAC-1_1             6               6        Singlet   \n",
       "AAACCCATCTCGTCAC-1_1             2               2        Singlet   \n",
       "...                            ...             ...            ...   \n",
       "TTTGGTTTCTTTCAGT-1_5             2               2        Singlet   \n",
       "TTTGTTGCAATCGAAA-1_5             0               0        Singlet   \n",
       "TTTGTTGTCATTGCCC-1_5            10              10        Singlet   \n",
       "TTTGTTGTCCGTGTGG-1_5             3               3        Singlet   \n",
       "TTTGTTGTCGAGAACG-1_5             0               0        Singlet   \n",
       "\n",
       "                            clust9 orig.identABC         celltype  \\\n",
       "AAACCCACAACATCGT-1_1   Late muscle             D      Late muscle   \n",
       "AAACCCAGTAAGTAGT-1_1   Late muscle             D      Late muscle   \n",
       "AAACCCAGTACCGCGT-1_1  Early muscle             D     Early muscle   \n",
       "AAACCCAGTTAGGGAC-1_1      Ionocyte             D  ASCL3+ ionocyte   \n",
       "AAACCCATCTCGTCAC-1_1  Early muscle             D     Early muscle   \n",
       "...                            ...           ...              ...   \n",
       "TTTGGTTTCTTTCAGT-1_5  Early muscle             E     Early muscle   \n",
       "TTTGTTGCAATCGAAA-1_5  Early muscle             E     Early muscle   \n",
       "TTTGTTGTCATTGCCC-1_5  Intermediate             E     Transitional   \n",
       "TTTGTTGTCCGTGTGG-1_5  Early muscle             E     Early muscle   \n",
       "TTTGTTGTCGAGAACG-1_5  Early muscle             E     Early muscle   \n",
       "\n",
       "                                ident  \n",
       "AAACCCACAACATCGT-1_1      Late muscle  \n",
       "AAACCCAGTAAGTAGT-1_1      Late muscle  \n",
       "AAACCCAGTACCGCGT-1_1     Early muscle  \n",
       "AAACCCAGTTAGGGAC-1_1  ASCL3+ ionocyte  \n",
       "AAACCCATCTCGTCAC-1_1     Early muscle  \n",
       "...                               ...  \n",
       "TTTGGTTTCTTTCAGT-1_5     Early muscle  \n",
       "TTTGTTGCAATCGAAA-1_5     Early muscle  \n",
       "TTTGTTGTCATTGCCC-1_5     Transitional  \n",
       "TTTGTTGTCCGTGTGG-1_5     Early muscle  \n",
       "TTTGTTGTCGAGAACG-1_5     Early muscle  \n",
       "\n",
       "[25784 rows x 11 columns]"
      ]
     },
     "execution_count": 6,
     "metadata": {},
     "output_type": "execute_result"
    }
   ],
   "source": [
    "sc_ann_1.obs"
   ]
  },
  {
   "cell_type": "code",
   "execution_count": 7,
   "metadata": {},
   "outputs": [],
   "source": [
    "sc_ann_1.write('../human_data/meclo_ht2-ht6_seurat_table_20240309_labelled-mimeticsonly_preprocessed.h5ad')"
   ]
  },
  {
   "cell_type": "markdown",
   "metadata": {},
   "source": [
    "## Mouse and Zebrafish data (new)"
   ]
  },
  {
   "cell_type": "code",
   "execution_count": 1,
   "metadata": {},
   "outputs": [],
   "source": [
    "import scanpy as sc\n",
    "import numpy as np\n",
    "\n",
    "import anndata2ri"
   ]
  },
  {
   "cell_type": "code",
   "execution_count": 2,
   "metadata": {},
   "outputs": [
    {
     "name": "stderr",
     "output_type": "stream",
     "text": [
      "/tmp/ipykernel_28099/1522958795.py:2: DeprecationWarning: The global conversion available with activate() is deprecated and will be removed in the next major release. Use a local converter.\n",
      "  anndata2ri.activate()\n"
     ]
    },
    {
     "name": "stdout",
     "output_type": "stream",
     "text": [
      "-----\n",
      "anndata     0.9.2\n",
      "scanpy      1.9.5\n",
      "-----\n",
      "PIL                         10.2.0\n",
      "anndata2ri                  1.3.1\n",
      "anyio                       NA\n",
      "arrow                       1.3.0\n",
      "asttokens                   NA\n",
      "attr                        23.2.0\n",
      "attrs                       23.2.0\n",
      "babel                       2.14.0\n",
      "certifi                     2024.02.02\n",
      "cffi                        1.16.0\n",
      "charset_normalizer          3.3.2\n",
      "comm                        0.2.1\n",
      "cycler                      0.12.1\n",
      "cython_runtime              NA\n",
      "dateutil                    2.8.2\n",
      "debugpy                     1.8.1\n",
      "decorator                   5.1.1\n",
      "defusedxml                  0.7.1\n",
      "exceptiongroup              1.2.0\n",
      "executing                   2.0.1\n",
      "fastjsonschema              NA\n",
      "fqdn                        NA\n",
      "h5py                        3.10.0\n",
      "idna                        3.6\n",
      "importlib_resources         NA\n",
      "ipykernel                   6.29.2\n",
      "isoduration                 NA\n",
      "jedi                        0.19.1\n",
      "jinja2                      3.1.3\n",
      "joblib                      1.3.2\n",
      "json5                       NA\n",
      "jsonpointer                 2.4\n",
      "jsonschema                  4.21.1\n",
      "jsonschema_specifications   NA\n",
      "jupyter_events              0.9.0\n",
      "jupyter_server              2.12.5\n",
      "jupyterlab_server           2.25.3\n",
      "kiwisolver                  1.4.5\n",
      "llvmlite                    0.42.0\n",
      "markupsafe                  2.1.5\n",
      "matplotlib                  3.8.3\n",
      "mpl_toolkits                NA\n",
      "natsort                     8.4.0\n",
      "nbformat                    5.9.2\n",
      "numba                       0.59.0\n",
      "numpy                       1.26.4\n",
      "overrides                   NA\n",
      "packaging                   23.2\n",
      "pandas                      1.3.5\n",
      "parso                       0.8.3\n",
      "pexpect                     4.9.0\n",
      "platformdirs                4.2.0\n",
      "prometheus_client           NA\n",
      "prompt_toolkit              3.0.43\n",
      "psutil                      5.9.8\n",
      "ptyprocess                  0.7.0\n",
      "pure_eval                   0.2.2\n",
      "pydev_ipython               NA\n",
      "pydevconsole                NA\n",
      "pydevd                      2.9.5\n",
      "pydevd_file_utils           NA\n",
      "pydevd_plugins              NA\n",
      "pydevd_tracing              NA\n",
      "pygments                    2.17.2\n",
      "pyparsing                   3.1.1\n",
      "pythonjsonlogger            NA\n",
      "pytz                        2024.1\n",
      "referencing                 NA\n",
      "requests                    2.31.0\n",
      "rfc3339_validator           0.1.4\n",
      "rfc3986_validator           0.1.1\n",
      "rpds                        NA\n",
      "rpy2                        3.5.15\n",
      "scipy                       1.12.0\n",
      "send2trash                  NA\n",
      "session_info                1.0.0\n",
      "six                         1.16.0\n",
      "sklearn                     1.4.1.post1\n",
      "sniffio                     1.3.0\n",
      "stack_data                  0.6.3\n",
      "threadpoolctl               3.3.0\n",
      "tornado                     6.4\n",
      "traitlets                   5.14.1\n",
      "typing_extensions           NA\n",
      "tzlocal                     NA\n",
      "uri_template                NA\n",
      "urllib3                     1.26.6\n",
      "wcwidth                     0.2.13\n",
      "webcolors                   1.13\n",
      "websocket                   1.7.0\n",
      "yaml                        6.0.1\n",
      "zipp                        NA\n",
      "zmq                         25.1.2\n",
      "zoneinfo                    NA\n",
      "-----\n",
      "IPython             8.18.1\n",
      "jupyter_client      8.6.0\n",
      "jupyter_core        5.7.1\n",
      "jupyterlab          4.1.2\n",
      "notebook            7.1.0\n",
      "-----\n",
      "Python 3.9.14 (main, Sep 16 2022, 09:43:18) [GCC 9.2.0]\n",
      "Linux-3.10.0-1160.108.1.el7.x86_64-x86_64-with-glibc2.17\n",
      "-----\n",
      "Session information updated at 2024-03-13 19:01\n"
     ]
    }
   ],
   "source": [
    "# Activate the anndata2ri conversion between SingleCellExperiment and AnnData\n",
    "anndata2ri.activate()\n",
    "\n",
    "#Loading the rpy2 extension enables cell magic to be used\n",
    "#This runs R code in jupyter notebook cells\n",
    "%load_ext rpy2.ipython\n",
    "\n",
    "sc.settings.verbosity = 3\n",
    "sc.logging.print_versions()"
   ]
  },
  {
   "cell_type": "code",
   "execution_count": 3,
   "metadata": {},
   "outputs": [
    {
     "name": "stdout",
     "output_type": "stream",
     "text": [
      "\n",
      "    WARNING: The R package \"reticulate\" only fixed recently\n",
      "    an issue that caused a segfault when used with rpy2:\n",
      "    https://github.com/rstudio/reticulate/pull/1188\n",
      "    Make sure that you use a version of that package that includes\n",
      "    the fix.\n",
      "    An object of class Seurat \n",
      "15130 features across 4341 samples within 1 assay \n",
      "Active assay: RNA (15130 features, 2000 variable features)\n",
      " 3 layers present: counts, data, scale.data\n",
      " 2 dimensional reductions calculated: pca, umap\n"
     ]
    }
   ],
   "source": [
    "%%R\n",
    "suppressPackageStartupMessages(library(Seurat))\n",
    "\n",
    "sc_seurat <- readRDS(\"../mouse/meclo_seurat_table_mouse-humanlabels_mimeticsonly-20240306_cleaned.rds\")\n",
    "\n",
    "sc_seurat"
   ]
  },
  {
   "cell_type": "code",
   "execution_count": 4,
   "metadata": {},
   "outputs": [
    {
     "name": "stdout",
     "output_type": "stream",
     "text": [
      "class: SingleCellExperiment \n",
      "dim: 15130 4341 \n",
      "metadata(0):\n",
      "assays(3): counts logcounts scaledata\n",
      "rownames(15130): XKR4 RP1 ... MT-ND6 MT-CYB\n",
      "rowData names(0):\n",
      "colnames(4341): AAACCCACAATCGCAT-1 AAACCCAGTGGCCCAT-1 ...\n",
      "  TTTGTTGTCCTGTAAG-1 TTTGTTGTCGTTCTCG-1\n",
      "colData names(6): orig.ident nCount_RNA ... seurat_clusters ident\n",
      "reducedDimNames(2): PCA UMAP\n",
      "mainExpName: RNA\n",
      "altExpNames(0):\n"
     ]
    }
   ],
   "source": [
    "%%R -o sc_ann\n",
    "#convert the Seurat object to a SingleCellExperiment object\n",
    "sc_ann <- as.SingleCellExperiment(sc_seurat)\n",
    "\n",
    "sc_ann"
   ]
  },
  {
   "cell_type": "code",
   "execution_count": 5,
   "metadata": {},
   "outputs": [
    {
     "data": {
      "text/plain": [
       "AnnData object with n_obs × n_vars = 4341 × 15130\n",
       "    obs: 'orig.ident', 'nCount_RNA', 'nFeature_RNA', 'RNA_snn_res.1.4', 'seurat_clusters', 'ident'\n",
       "    obsm: 'X_pca', 'X_umap'\n",
       "    layers: 'logcounts', 'scaledata'"
      ]
     },
     "execution_count": 5,
     "metadata": {},
     "output_type": "execute_result"
    }
   ],
   "source": [
    "sc_ann"
   ]
  },
  {
   "cell_type": "code",
   "execution_count": 6,
   "metadata": {},
   "outputs": [],
   "source": [
    "sc_ann.write('../mouse/meclo_seurat_table_mouse-humanlabels_mimeticsonly-20240306_cleaned.h5ad')"
   ]
  },
  {
   "cell_type": "code",
   "execution_count": 7,
   "metadata": {},
   "outputs": [
    {
     "name": "stdout",
     "output_type": "stream",
     "text": [
      "An object of class Seurat \n",
      "8699 features across 1104 samples within 1 assay \n",
      "Active assay: RNA (8699 features, 2000 variable features)\n",
      " 3 layers present: counts, data, scale.data\n",
      " 2 dimensional reductions calculated: pca, umap\n"
     ]
    }
   ],
   "source": [
    "%%R\n",
    "suppressPackageStartupMessages(library(Seurat))\n",
    "\n",
    "sc_seurat <- readRDS(\"../zebrafish/zebrafish_mec_aftercut5-humanlabels_mimeticsonly-20240306_cleaned.rds\")\n",
    "\n",
    "sc_seurat"
   ]
  },
  {
   "cell_type": "code",
   "execution_count": 8,
   "metadata": {},
   "outputs": [
    {
     "name": "stdout",
     "output_type": "stream",
     "text": [
      "class: SingleCellExperiment \n",
      "dim: 8699 1104 \n",
      "metadata(0):\n",
      "assays(3): counts logcounts scaledata\n",
      "rownames(8699): LRP6 DUSP16 ... FPR2 FCGRT\n",
      "rowData names(0):\n",
      "colnames(1104): AACACACAGACCTCAT-1_1 AACCATGCAGTATTCG-1_1 ...\n",
      "  TTGAACGGTACGCTAT-1_11 TTGACCCTCTGCACCT-1_11\n",
      "colData names(6): orig.ident nCount_RNA ... seurat_clusters ident\n",
      "reducedDimNames(2): PCA UMAP\n",
      "mainExpName: RNA\n",
      "altExpNames(0):\n"
     ]
    }
   ],
   "source": [
    "%%R -o sc_ann\n",
    "#convert the Seurat object to a SingleCellExperiment object\n",
    "sc_ann <- as.SingleCellExperiment(sc_seurat)\n",
    "\n",
    "sc_ann"
   ]
  },
  {
   "cell_type": "code",
   "execution_count": 9,
   "metadata": {},
   "outputs": [
    {
     "data": {
      "text/plain": [
       "AnnData object with n_obs × n_vars = 1104 × 8699\n",
       "    obs: 'orig.ident', 'nCount_RNA', 'nFeature_RNA', 'RNA_snn_res.1.6', 'seurat_clusters', 'ident'\n",
       "    obsm: 'X_pca', 'X_umap'\n",
       "    layers: 'logcounts', 'scaledata'"
      ]
     },
     "execution_count": 9,
     "metadata": {},
     "output_type": "execute_result"
    }
   ],
   "source": [
    "sc_ann"
   ]
  },
  {
   "cell_type": "code",
   "execution_count": 10,
   "metadata": {},
   "outputs": [],
   "source": [
    "sc_ann.write('../zebrafish/zebrafish_mec_aftercut5-humanlabels_mimeticsonly-20240306_cleaned.h5ad')"
   ]
  },
  {
   "cell_type": "code",
   "execution_count": null,
   "metadata": {},
   "outputs": [],
   "source": []
  }
 ],
 "metadata": {
  "kernelspec": {
   "display_name": "Python 3",
   "language": "python",
   "name": "python3"
  },
  "language_info": {
   "codemirror_mode": {
    "name": "ipython",
    "version": 3
   },
   "file_extension": ".py",
   "mimetype": "text/x-python",
   "name": "python",
   "nbconvert_exporter": "python",
   "pygments_lexer": "ipython3",
   "version": "3.7.3"
  }
 },
 "nbformat": 4,
 "nbformat_minor": 5
}
