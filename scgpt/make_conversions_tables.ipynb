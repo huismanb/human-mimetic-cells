{
 "cells": [
  {
   "cell_type": "code",
   "execution_count": 1,
   "metadata": {},
   "outputs": [],
   "source": [
    "# Generate tables of homologous genes \n",
    "# Gene conversion strategy adapted from: https://github.com/Papatheodorou-Group/BENGAL/blob/main/bin/concat_by_homology_multiple_species_by_gene_id.R"
   ]
  },
  {
   "cell_type": "code",
   "execution_count": 2,
   "metadata": {},
   "outputs": [
    {
     "name": "stdout",
     "output_type": "stream",
     "text": [
      "0.2.0\n",
      "1.3.5\n",
      "1.21.6\n"
     ]
    },
    {
     "name": "stderr",
     "output_type": "stream",
     "text": [
      "/Users/brooke/anaconda3/lib/python3.7/site-packages/requests/__init__.py:91: RequestsDependencyWarning: urllib3 (1.26.12) or chardet (3.0.4) doesn't match a supported version!\n",
      "  RequestsDependencyWarning)\n"
     ]
    }
   ],
   "source": [
    "import pybiomart\n",
    "import pandas as pd\n",
    "import numpy as np\n",
    "\n",
    "print(pybiomart.__version__)\n",
    "print(pd.__version__)\n",
    "print(np.__version__)"
   ]
  },
  {
   "cell_type": "code",
   "execution_count": 3,
   "metadata": {},
   "outputs": [],
   "source": [
    "mouse = pybiomart.Dataset(name='mmusculus_gene_ensembl', host='http://www.ensembl.org')\n",
    "human = pybiomart.Dataset(name='hsapiens_gene_ensembl', host='http://www.ensembl.org')\n"
   ]
  },
  {
   "cell_type": "code",
   "execution_count": 4,
   "metadata": {},
   "outputs": [],
   "source": [
    "genes_main_chr = {'hsapiens':list(map(str,list(range(1,23))+['X','Y'])),\n",
    "                  'mmusculus':list(map(str,list(range(1,20))+['X','Y'])),\n",
    "                  'drerio':list(map(str,list(range(1,26))))}"
   ]
  },
  {
   "cell_type": "code",
   "execution_count": 5,
   "metadata": {},
   "outputs": [],
   "source": [
    "def create_table(species1, species0, pybio, fname):\n",
    "    #### Input\n",
    "    #species1: species whose names we will convert\n",
    "    #species0: reference - convert species1 names to species0 names\n",
    "    #pybio: species0's pybiomart variable\n",
    "    #fname: filename to save homology table to\n",
    "    #output = save csv of homology table\n",
    "    #### \n",
    "    \n",
    "    ######### Filter dataframe to include information from species of interest\n",
    "    species1_colnames = pybio.list_attributes()['name'][pybio.list_attributes()['name'].str.contains(species1)]\n",
    "\n",
    "    df = pybio.query(attributes=[\"ensembl_gene_id\", \"external_gene_name\", \n",
    "                                       \"chromosome_name\", \"start_position\", \"end_position\"]+\n",
    "                           list(species1_colnames))\n",
    "\n",
    "    \n",
    "    ########## Keep the name instead of 'display_name'\n",
    "    attribute_df = pybio.list_attributes()\n",
    "    attribute_dict = dict(zip(attribute_df.display_name,attribute_df.name))\n",
    "    df.rename(columns=attribute_dict, inplace=True)\n",
    "\n",
    "    ######### Filter for chromosomes in main chromosomes for species0\n",
    "    df[df['chromosome_name'].isin(genes_main_chr[species0])]\n",
    "    \n",
    "    ######### Renaming the info from baseline species so it contains species name\n",
    "    df[species0 + \"_homolog_associated_gene_name\"] = df['external_gene_name']\n",
    "    df[species0 + \"_homolog_ensembl_gene\"] = df['ensembl_gene_id']\n",
    "    df[species0 + \"_homolog_chromosome\"] = df['chromosome_name']\n",
    "    df[species0 + \"_homolog_chrom_start\"] = df['start_position']\n",
    "    df[species0 + \"_homolog_chrom_end\"] = df['end_position']\n",
    "\n",
    "    ########## Filter to make 1:1 conversion table\n",
    "    df = df.dropna(subset=[species1+'_homolog_associated_gene_name'])#drop if na in zf genes \n",
    "    df = df.dropna(subset=[species0+'_homolog_associated_gene_name'])#drop if na in hu genes \n",
    "\n",
    "    # Sort genes based on homology\n",
    "    df.sort_values(by=species1+\"_homolog_goc_score\", ascending=False, inplace=True)\n",
    "    df.sort_values(by=species1+\"_homolog_orthology_confidence\", ascending=False, inplace=True) #primary sort criteria\n",
    "\n",
    "    # Drop genes which are pairs are duplicated\n",
    "    df = df.drop_duplicates(subset = [species1+'_homolog_associated_gene_name',\n",
    "                                  species0+'_homolog_associated_gene_name'],\n",
    "                  keep='first') #keep first which has highest homology\n",
    "    \n",
    "    # Drop genes duplicated in single species \n",
    "    df = df.drop_duplicates(subset = [species1+'_homolog_associated_gene_name'],\n",
    "                      keep='first') #keep first which has highest homology\n",
    "    df = df.drop_duplicates(subset = [species0+'_homolog_associated_gene_name'],\n",
    "                      keep='first') #keep first which has highest homology\n",
    "    \n",
    "    df.to_csv(fname)"
   ]
  },
  {
   "cell_type": "code",
   "execution_count": 6,
   "metadata": {},
   "outputs": [],
   "source": [
    "#zebrafish to mouse\n",
    "species1 = 'drerio' #species whose names we will convert\n",
    "species0 = 'mmusculus' #reference - convert to these names\n",
    "pybio = mouse #species0's pybiomart \n",
    "fname = 'homology_tbl_'+species0+'_'+species1+'-20231117.csv'\n",
    "\n",
    "create_table(species1, species0, pybio, fname)"
   ]
  },
  {
   "cell_type": "code",
   "execution_count": 7,
   "metadata": {},
   "outputs": [
    {
     "name": "stderr",
     "output_type": "stream",
     "text": [
      "/Users/brooke/anaconda3/lib/python3.7/site-packages/ipykernel_launcher.py:16: DtypeWarning: Columns (2) have mixed types.Specify dtype option on import or set low_memory=False.\n",
      "  app.launch_new_instance()\n"
     ]
    }
   ],
   "source": [
    "#zebrafish to human\n",
    "species1 = 'drerio' #species whose names we will convert\n",
    "species0 = 'hsapiens' #reference - convert to these names\n",
    "pybio = human #species0's pybiomart \n",
    "fname = 'homology_tbl_'+species0+'_'+species1+'-20231117.csv'\n",
    "\n",
    "create_table(species1, species0, pybio, fname)"
   ]
  },
  {
   "cell_type": "code",
   "execution_count": 8,
   "metadata": {},
   "outputs": [
    {
     "name": "stderr",
     "output_type": "stream",
     "text": [
      "/Users/brooke/anaconda3/lib/python3.7/site-packages/ipykernel_launcher.py:16: DtypeWarning: Columns (2) have mixed types.Specify dtype option on import or set low_memory=False.\n",
      "  app.launch_new_instance()\n"
     ]
    }
   ],
   "source": [
    "#mouse to human\n",
    "species1 = 'mmusculus' #species whose names we will convert\n",
    "species0 = 'hsapiens' #reference - convert to these names\n",
    "pybio = human #species0's pybiomart \n",
    "fname = 'homology_tbl_'+species0+'_'+species1+'-20231117.csv'\n",
    "\n",
    "create_table(species1, species0, pybio, fname)"
   ]
  },
  {
   "cell_type": "code",
   "execution_count": null,
   "metadata": {},
   "outputs": [],
   "source": []
  },
  {
   "cell_type": "code",
   "execution_count": null,
   "metadata": {},
   "outputs": [],
   "source": []
  }
 ],
 "metadata": {
  "kernelspec": {
   "display_name": "Python 3",
   "language": "python",
   "name": "python3"
  },
  "language_info": {
   "codemirror_mode": {
    "name": "ipython",
    "version": 3
   },
   "file_extension": ".py",
   "mimetype": "text/x-python",
   "name": "python",
   "nbconvert_exporter": "python",
   "pygments_lexer": "ipython3",
   "version": "3.7.3"
  }
 },
 "nbformat": 4,
 "nbformat_minor": 2
}
