{
 "cells": [
  {
   "cell_type": "code",
   "execution_count": null,
   "metadata": {},
   "outputs": [],
   "source": [
    "#RNA velocity analysis of muscle mimetic cells"
   ]
  },
  {
   "cell_type": "code",
   "execution_count": null,
   "metadata": {},
   "outputs": [],
   "source": [
    "import os\n",
    "import pandas as pd\n",
    "import numpy as np\n",
    "import scipy as scp\n",
    "import sklearn\n",
    "import matplotlib.pyplot as plt\n",
    "import matplotlib\n",
    "import sys\n",
    "import glob\n",
    "import pickle\n",
    "from collections import Counter\n",
    "from sklearn.decomposition import PCA\n",
    "from scipy.spatial.distance import pdist, squareform\n",
    "import loompy\n",
    "import scipy.optimize\n",
    "import packaging\n",
    "import scanpy as sc\n",
    "import scvelo as scv\n",
    "import anndata\n",
    "print(packaging.__version__) \n",
    "from scipy import io\n",
    "from scipy.sparse import coo_matrix, csr_matrix\n",
    "import cellrank as cr\n"
   ]
  },
  {
   "cell_type": "code",
   "execution_count": null,
   "metadata": {},
   "outputs": [],
   "source": [
    "date = '20240110'"
   ]
  },
  {
   "cell_type": "code",
   "execution_count": null,
   "metadata": {},
   "outputs": [],
   "source": [
    "scv.settings.set_figure_params('scvelo')\n",
    "plt.rcParams['figure.dpi'] = 600"
   ]
  },
  {
   "cell_type": "code",
   "execution_count": null,
   "metadata": {},
   "outputs": [],
   "source": [
    "## Import data from 5 donors and merge with original cluster labels\n",
    "\n",
    "#import RNA velocity count matrices \n",
    "directory = '/n/groups/cbdm_lab/brh040/analysis/rna_velocity/human_HT2-HT6/preprocessing/kb_count_out_ht2/counts_unfiltered/'\n",
    "adata_ht2 = scv.read(directory+'adata.h5ad')\n",
    "\n",
    "#import RNA velocity count matrices \n",
    "directory = '/n/groups/cbdm_lab/brh040/analysis/rna_velocity/human_HT2-HT6/preprocessing/kb_count_out_ht3/counts_unfiltered/'\n",
    "adata_ht3 = scv.read(directory+'adata.h5ad')\n",
    "\n",
    "#import RNA velocity count matrices \n",
    "directory = '/n/groups/cbdm_lab/brh040/analysis/rna_velocity/human_HT2-HT6/preprocessing/kb_count_out_ht4/counts_unfiltered/'\n",
    "adata_ht4 = scv.read(directory+'adata.h5ad')\n",
    "\n",
    "#import RNA velocity count matrices \n",
    "directory = '/n/groups/cbdm_lab/brh040/analysis/rna_velocity/human_HT2-HT6/preprocessing/kb_count_out_ht5/counts_unfiltered/'\n",
    "adata_ht5 = scv.read(directory+'adata.h5ad')\n",
    "\n",
    "#import RNA velocity count matrices \n",
    "directory = '/n/groups/cbdm_lab/brh040/analysis/rna_velocity/human_HT2-HT6/preprocessing/kb_count_out_ht6/counts_unfiltered/'\n",
    "adata_ht6 = scv.read(directory+'adata.h5ad')"
   ]
  },
  {
   "cell_type": "code",
   "execution_count": null,
   "metadata": {},
   "outputs": [],
   "source": [
    "# load cell metadata:\n",
    "directory = '/home/brh040/analysis/rna_velocity/human_HT2-HT6/seurat_output-from_local/'\n",
    "cell_meta = pd.read_csv(directory+\"20240110_metadata_muscle.csv\")\n",
    "cell_meta.index = cell_meta['barcode'] #critical step so merge happens -- needs barcodes as index\n",
    "\n",
    "#in seurat data file, barcodes end with '2' if from HT3 and in '1' if from HT2\n",
    "\n",
    "#relabel barcodes in adata to match this convention\n",
    "adata_ht2.obs.index = adata_ht2.obs.index + '-1_1'\n",
    "adata_ht3.obs.index = adata_ht3.obs.index + '-1_2'\n",
    "adata_ht4.obs.index = adata_ht4.obs.index + '-1_3'\n",
    "adata_ht5.obs.index = adata_ht5.obs.index + '-1_4'\n",
    "adata_ht6.obs.index = adata_ht6.obs.index + '-1_5'"
   ]
  },
  {
   "cell_type": "code",
   "execution_count": null,
   "metadata": {},
   "outputs": [],
   "source": [
    "#merge metadata with adata object\n",
    "adata_ht2.obs = pd.merge(left=adata_ht2.obs, right=cell_meta['clusterLabels'], left_index=True, right_index=True,how='left')\n",
    "adata_ht3.obs = pd.merge(left=adata_ht3.obs, right=cell_meta['clusterLabels'], left_index=True, right_index=True,how='left')\n",
    "adata_ht4.obs = pd.merge(left=adata_ht4.obs, right=cell_meta['clusterLabels'], left_index=True, right_index=True,how='left')\n",
    "adata_ht5.obs = pd.merge(left=adata_ht5.obs, right=cell_meta['clusterLabels'], left_index=True, right_index=True,how='left')\n",
    "adata_ht6.obs = pd.merge(left=adata_ht6.obs, right=cell_meta['clusterLabels'], left_index=True, right_index=True,how='left')\n"
   ]
  },
  {
   "cell_type": "code",
   "execution_count": null,
   "metadata": {},
   "outputs": [],
   "source": [
    "adata_ht2.layers['unspliced']"
   ]
  },
  {
   "cell_type": "code",
   "execution_count": null,
   "metadata": {},
   "outputs": [],
   "source": [
    "adata_ht2.layers['spliced']"
   ]
  },
  {
   "cell_type": "code",
   "execution_count": null,
   "metadata": {},
   "outputs": [],
   "source": [
    "cell_meta"
   ]
  },
  {
   "cell_type": "code",
   "execution_count": null,
   "metadata": {},
   "outputs": [],
   "source": [
    "print(len(adata_ht2.obs[~adata_ht2.obs['clusterLabels'].isnull()]))\n",
    "print(len(adata_ht3.obs[~adata_ht3.obs['clusterLabels'].isnull()]))\n",
    "print(len(adata_ht4.obs[~adata_ht4.obs['clusterLabels'].isnull()]))\n",
    "print(len(adata_ht5.obs[~adata_ht5.obs['clusterLabels'].isnull()]))\n",
    "print(len(adata_ht6.obs[~adata_ht6.obs['clusterLabels'].isnull()]))"
   ]
  },
  {
   "cell_type": "code",
   "execution_count": null,
   "metadata": {},
   "outputs": [],
   "source": [
    "pd.unique(adata_ht2.obs['clusterLabels'])"
   ]
  },
  {
   "cell_type": "code",
   "execution_count": null,
   "metadata": {},
   "outputs": [],
   "source": [
    "def subset(adata):\n",
    "    idx = ( adata.obs['clusterLabels']=='Early') | ( adata.obs['clusterLabels']=='Inter1') | \\\n",
    "    ( adata.obs['clusterLabels']=='Inter2') | ( adata.obs['clusterLabels']=='Late') | \\\n",
    "    ( adata.obs['clusterLabels']=='lncRNA-enriched') \n",
    "    return idx\n",
    "\n",
    "idx_ht2 = subset(adata_ht2)\n",
    "idx_ht3 = subset(adata_ht3)\n",
    "idx_ht4 = subset(adata_ht4)\n",
    "idx_ht5 = subset(adata_ht5)\n",
    "idx_ht6 = subset(adata_ht6)\n",
    "\n",
    "subset_adata_ht2 = adata_ht2[idx_ht2].copy()\n",
    "subset_adata_ht3 = adata_ht3[idx_ht3].copy()\n",
    "subset_adata_ht4 = adata_ht4[idx_ht4].copy()\n",
    "subset_adata_ht5 = adata_ht5[idx_ht5].copy()\n",
    "subset_adata_ht6 = adata_ht6[idx_ht6].copy()"
   ]
  },
  {
   "cell_type": "code",
   "execution_count": null,
   "metadata": {},
   "outputs": [],
   "source": [
    "subset_adata_ht2.layers['spliced']"
   ]
  },
  {
   "cell_type": "code",
   "execution_count": null,
   "metadata": {},
   "outputs": [],
   "source": [
    "cell_meta_ht2 = cell_meta[cell_meta['barcode'].str[-1]=='1'] #for HT2\n",
    "cell_meta_ht3 = cell_meta[cell_meta['barcode'].str[-1]=='2'] #for HT3\n",
    "cell_meta_ht4 = cell_meta[cell_meta['barcode'].str[-1]=='3'] #for HT4\n",
    "cell_meta_ht5 = cell_meta[cell_meta['barcode'].str[-1]=='4'] #for HT5\n",
    "cell_meta_ht6 = cell_meta[cell_meta['barcode'].str[-1]=='5'] #for HT6\n",
    "\n",
    "subset_adata_ht2.obsm['X_umap'] = np.vstack((cell_meta_ht2['UMAP_1'].to_numpy(), cell_meta_ht2['UMAP_2'].to_numpy())).T #original umap coordinates\n",
    "subset_adata_ht3.obsm['X_umap'] = np.vstack((cell_meta_ht3['UMAP_1'].to_numpy(), cell_meta_ht3['UMAP_2'].to_numpy())).T #original umap coordinates\n",
    "subset_adata_ht4.obsm['X_umap'] = np.vstack((cell_meta_ht4['UMAP_1'].to_numpy(), cell_meta_ht4['UMAP_2'].to_numpy())).T #original umap coordinates\n",
    "subset_adata_ht5.obsm['X_umap'] = np.vstack((cell_meta_ht5['UMAP_1'].to_numpy(), cell_meta_ht5['UMAP_2'].to_numpy())).T #original umap coordinates\n",
    "subset_adata_ht6.obsm['X_umap'] = np.vstack((cell_meta_ht6['UMAP_1'].to_numpy(), cell_meta_ht6['UMAP_2'].to_numpy())).T #original umap coordinates\n"
   ]
  },
  {
   "cell_type": "code",
   "execution_count": null,
   "metadata": {},
   "outputs": [],
   "source": [
    "#concatenate\n",
    "adata = subset_adata_ht2.concatenate(subset_adata_ht3,subset_adata_ht4)\n",
    "adata = adata.concatenate(subset_adata_ht5,subset_adata_ht6)"
   ]
  },
  {
   "cell_type": "code",
   "execution_count": null,
   "metadata": {},
   "outputs": [],
   "source": [
    "######### Calculate and plot UMAP \n",
    "# pre-process data\n",
    "scv.pp.filter_and_normalize(adata, min_shared_counts=20, n_top_genes=20000) \n",
    "scv.pp.moments(adata)"
   ]
  },
  {
   "cell_type": "code",
   "execution_count": null,
   "metadata": {},
   "outputs": [],
   "source": [
    "adata.layers['spliced']"
   ]
  },
  {
   "cell_type": "code",
   "execution_count": null,
   "metadata": {},
   "outputs": [],
   "source": [
    "### Plot Maps\n",
    "sc.pl.umap(adata, color=['clusterLabels'], frameon=False, save=date+'_muscle_umap.pdf')"
   ]
  },
  {
   "cell_type": "code",
   "execution_count": null,
   "metadata": {},
   "outputs": [],
   "source": [
    "mode = 'dynamical'\n",
    "donori='ht_all'\n",
    "umapi='orig'\n",
    "clusteri='-muscle'\n",
    "\n",
    "scv.tl.recover_dynamics(adata, n_jobs=3)\n",
    "scv.tl.velocity(adata, mode='dynamical')\n",
    "#continued in next cell..."
   ]
  },
  {
   "cell_type": "code",
   "execution_count": null,
   "metadata": {},
   "outputs": [],
   "source": [
    "# ... continued from prior cell\n",
    "scv.tl.velocity_graph(adata, n_jobs=3)\n",
    "scv.pl.velocity_embedding_stream(adata, basis='umap', color='clusterLabels',title='', \n",
    "                                 save=date+'_embedding_'+mode+'_stream_'+donori+'_umap_'+umapi+clusteri+'.png', \n",
    "                                 legend_loc='right margin')"
   ]
  },
  {
   "cell_type": "code",
   "execution_count": null,
   "metadata": {},
   "outputs": [],
   "source": [
    "scv.pl.velocity_embedding_stream(adata, basis='umap', color='clusterLabels',\n",
    "                                 title='', \n",
    "                                 save=date+'_embedding_'+mode+'_stream_'+donori+'_umap_'+umapi+clusteri+'.png', \n",
    "                                 legend_loc='right margin',alpha=0.3,\n",
    "                                 palette=[\"#4E79A7\",\"#F28E2B\",  \"#59A14F\", \"#B07AA1\", \"#FABFD2\"],\n",
    "                                 figsize=(4.5,5.5),\n",
    "                                size=15)"
   ]
  },
  {
   "cell_type": "code",
   "execution_count": null,
   "metadata": {},
   "outputs": [],
   "source": [
    "scv.tl.velocity_confidence(adata)\n",
    "scv.pl.scatter(adata, color='velocity_confidence', perc=[2,98])"
   ]
  },
  {
   "cell_type": "code",
   "execution_count": null,
   "metadata": {},
   "outputs": [],
   "source": [
    "#save confidence image\n",
    "scv.pl.scatter(adata, color='velocity_confidence', perc=[2,98],\n",
    "               title='', \n",
    "               save=date+'_velocity-confidence_'+donori+'_umap_'+umapi+clusteri+'.png', \n",
    "               legend_loc='right margin',\n",
    "               figsize=(4.5,5.5),\n",
    "               size=15)\n",
    "              "
   ]
  },
  {
   "cell_type": "code",
   "execution_count": null,
   "metadata": {},
   "outputs": [],
   "source": [
    "# save \n",
    "adata.write(date+'_adata_ht-muscle.h5ad')"
   ]
  },
  {
   "cell_type": "code",
   "execution_count": null,
   "metadata": {},
   "outputs": [],
   "source": [
    "#cell rank\n",
    "cr.tl.terminal_states(adata, cluster_key=\"clusterLabels\", weight_connectivities=0.2)\n",
    "cr.pl.terminal_states(adata, save=date+'_cr_terminalstates-muscle.pdf')"
   ]
  },
  {
   "cell_type": "code",
   "execution_count": null,
   "metadata": {},
   "outputs": [],
   "source": [
    "cr.tl.initial_states(adata, cluster_key=\"clusterLabels\")\n",
    "cr.pl.initial_states(adata, discrete=True, save=date+'_cr_initialstates-muscle.pdf')"
   ]
  },
  {
   "cell_type": "code",
   "execution_count": null,
   "metadata": {},
   "outputs": [],
   "source": [
    "cr.tl.lineages(adata)"
   ]
  },
  {
   "cell_type": "code",
   "execution_count": null,
   "metadata": {},
   "outputs": [],
   "source": [
    "cr.pl.lineages(adata, same_plot=False, save=date+'_cr_lineages-muscle.pdf',\n",
    "              figsize=(4.5,5.5))"
   ]
  },
  {
   "cell_type": "code",
   "execution_count": null,
   "metadata": {},
   "outputs": [],
   "source": [
    "cr.pl.lineages(adata, same_plot=True , save=date+'_cr_lineages-sameplot-colors-muscle.pdf',\n",
    "               color=['black','red'],\n",
    "              figsize=(5,5.5))\n"
   ]
  },
  {
   "cell_type": "code",
   "execution_count": null,
   "metadata": {},
   "outputs": [],
   "source": [
    "scv.tl.recover_latent_time(\n",
    "    adata, root_key=\"initial_states_probs\", end_key=\"terminal_states_probs\"\n",
    ")"
   ]
  },
  {
   "cell_type": "code",
   "execution_count": null,
   "metadata": {},
   "outputs": [],
   "source": [
    "scv.tl.paga(\n",
    "    adata,\n",
    "    groups=\"clusterLabels\",\n",
    "    root_key=\"initial_states_probs\",\n",
    "    end_key=\"terminal_states_probs\",\n",
    "    use_time_prior=\"velocity_pseudotime\",\n",
    ")"
   ]
  },
  {
   "cell_type": "code",
   "execution_count": null,
   "metadata": {},
   "outputs": [],
   "source": [
    "cr.pl.cluster_fates(\n",
    "    adata,\n",
    "    mode=\"paga_pie\",\n",
    "    cluster_key=\"clusterLabels\",\n",
    "    basis=\"umap\",\n",
    "    legend_kwargs={\"loc\": \"top right out\"},\n",
    "    legend_loc=\"top left out\",\n",
    "    node_size_scale=5,\n",
    "    edge_width_scale=1,\n",
    "    max_edge_width=4,\n",
    "    title=\"directed PAGA\",save=date+'_cr_paga-muscle.pdf',\n",
    "    figsize=(4.5,5)\n",
    ")\n"
   ]
  },
  {
   "cell_type": "code",
   "execution_count": null,
   "metadata": {},
   "outputs": [],
   "source": [
    "#https://cellrank.readthedocs.io/en/stable/cellrank_basics.html"
   ]
  }
 ],
 "metadata": {
  "kernelspec": {
   "display_name": "Python 3",
   "language": "python",
   "name": "python3"
  },
  "language_info": {
   "codemirror_mode": {
    "name": "ipython",
    "version": 3
   },
   "file_extension": ".py",
   "mimetype": "text/x-python",
   "name": "python",
   "nbconvert_exporter": "python",
   "pygments_lexer": "ipython3",
   "version": "3.7.3"
  }
 },
 "nbformat": 4,
 "nbformat_minor": 5
}
