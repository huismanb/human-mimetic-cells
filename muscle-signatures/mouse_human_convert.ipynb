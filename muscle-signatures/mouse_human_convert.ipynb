{
 "cells": [
  {
   "cell_type": "code",
   "execution_count": null,
   "metadata": {},
   "outputs": [],
   "source": [
    "# Convert gene signatures from mouse to human gene names"
   ]
  },
  {
   "cell_type": "code",
   "execution_count": null,
   "metadata": {},
   "outputs": [],
   "source": [
    "import pybiomart\n",
    "import pandas as pd\n",
    "import numpy as np\n",
    "import glob"
   ]
  },
  {
   "cell_type": "code",
   "execution_count": null,
   "metadata": {},
   "outputs": [],
   "source": [
    "# import mart data\n",
    "human = pybiomart.Dataset(name='hsapiens_gene_ensembl', host='http://www.ensembl.org')\n",
    "mouse = pybiomart.Dataset(name='mmusculus_gene_ensembl', host='http://www.ensembl.org')\n"
   ]
  },
  {
   "cell_type": "code",
   "execution_count": null,
   "metadata": {
    "scrolled": true
   },
   "outputs": [],
   "source": [
    "# generate dataframes with mouse and human ensemble gene IDs, gene names, and homologous gene names (1 df per species)\n",
    "mouse_df = mouse.query(attributes=['ensembl_gene_id', 'external_gene_name', 'hsapiens_homolog_ensembl_gene'])\n",
    "human_df = human.query(attributes=['ensembl_gene_id', 'external_gene_name','mmusculus_homolog_ensembl_gene'])\n",
    "\n",
    "human_df.head()"
   ]
  },
  {
   "cell_type": "code",
   "execution_count": null,
   "metadata": {},
   "outputs": [],
   "source": [
    "# From mouse list, remove genes with no human gene stable ID (have nan)\n",
    "mouse_df.dropna(axis=0,subset=['Human gene stable ID'],inplace=True)"
   ]
  },
  {
   "cell_type": "code",
   "execution_count": null,
   "metadata": {},
   "outputs": [],
   "source": [
    "def mouse2human(mouse_input):\n",
    "    #not always a 1:1 mapping\n",
    "    #if there are multiple human genes per 1 mouse gene, include all [e.g. Klk1b26 has 3 human equivalents in human_df]\n",
    "    #if there is not a human equivalent, skip that gene [e.g. Ifi27l2b has no human equivalent in human_df]\n",
    "    #if there are human genes with multiple mouse homologues, get replicates of same thing so combine to remove duplicates [e.g. human CES2]\n",
    "    \n",
    "    human_ensembl_list = mouse_df.loc[mouse_df['Gene name']==mouse_input,'Human gene stable ID'].to_numpy() #ensemble ID of human homologue\n",
    "    human_ensembl_list = np.unique(human_ensembl_list)\n",
    "    \n",
    "    human_gene_superlist = []\n",
    "    \n",
    "    for human_ensembl in human_ensembl_list:\n",
    "        human_gene_list = human_df.loc[human_df['Gene stable ID']==human_ensembl, 'Gene name'].to_numpy()\n",
    "        human_gene_list = np.unique(human_gene_list) \n",
    "        human_gene_superlist=np.append(human_gene_superlist, human_gene_list)\n",
    "    \n",
    "    return human_gene_superlist\n",
    "    "
   ]
  },
  {
   "cell_type": "code",
   "execution_count": null,
   "metadata": {},
   "outputs": [],
   "source": [
    "file_list = glob.glob(\"/text_outputs/*.txt\")\n",
    "\n",
    "for file in file_list:\n",
    "    df = pd.read_csv(file, header=None,names=['mouse_gene'])\n",
    "    \n",
    "    human_genes = []\n",
    "    for gene in df['mouse_gene']:\n",
    "        human_genes=np.append(human_genes,mouse2human(gene))\n",
    "\n",
    "    file_out = file.split('/')[-1][:-4]+\"_humanversions.txt\"\n",
    "    pd.DataFrame(human_genes).to_csv(\"/text_outputs/signatures_human_conversions/\"+file_out,index=False, header=False)\n"
   ]
  },
  {
   "cell_type": "code",
   "execution_count": null,
   "metadata": {},
   "outputs": [],
   "source": []
  }
 ],
 "metadata": {
  "kernelspec": {
   "display_name": "Python 3",
   "language": "python",
   "name": "python3"
  },
  "language_info": {
   "codemirror_mode": {
    "name": "ipython",
    "version": 3
   },
   "file_extension": ".py",
   "mimetype": "text/x-python",
   "name": "python",
   "nbconvert_exporter": "python",
   "pygments_lexer": "ipython3",
   "version": "3.7.3"
  }
 },
 "nbformat": 4,
 "nbformat_minor": 2
}
